{
 "cells": [
  {
   "cell_type": "code",
   "execution_count": 1,
   "id": "9c4873b1",
   "metadata": {},
   "outputs": [],
   "source": [
    "N_JOBS = 7\n",
    "N_MACHINES = 4"
   ]
  },
  {
   "cell_type": "code",
   "execution_count": 2,
   "id": "b9970759",
   "metadata": {},
   "outputs": [],
   "source": [
    "import random\n",
    "\n",
    "def generateData(seed=0):\n",
    "    PROC = [ [ 0 for m in range(N_MACHINES) ] for j in range(N_JOBS) ]\n",
    "    random.seed(seed)\n",
    "    for j in range(N_JOBS):\n",
    "        for m in range(N_MACHINES):\n",
    "            PROC[j][m] = random.randint(1,9)\n",
    "    return PROC"
   ]
  },
  {
   "cell_type": "code",
   "execution_count": 3,
   "id": "a98acde6",
   "metadata": {},
   "outputs": [],
   "source": [
    "PROC = generateData(4453)"
   ]
  },
  {
   "cell_type": "code",
   "execution_count": 4,
   "id": "458c05ea",
   "metadata": {},
   "outputs": [
    {
     "data": {
      "text/plain": [
       "[[2, 5, 2, 1],\n",
       " [8, 8, 6, 9],\n",
       " [5, 6, 3, 8],\n",
       " [3, 1, 5, 4],\n",
       " [7, 8, 3, 5],\n",
       " [7, 6, 1, 9],\n",
       " [9, 8, 3, 5]]"
      ]
     },
     "execution_count": 4,
     "metadata": {},
     "output_type": "execute_result"
    }
   ],
   "source": [
    "PROC"
   ]
  },
  {
   "cell_type": "markdown",
   "id": "17ec6409",
   "metadata": {},
   "source": [
    "## Greedy Algorithm"
   ]
  },
  {
   "cell_type": "code",
   "execution_count": 5,
   "id": "b4d2a94e",
   "metadata": {},
   "outputs": [],
   "source": [
    "import random\n",
    "\n",
    "\n",
    "def val(x):\n",
    "    return int(x)\n",
    "\n",
    "def greedy_algorithm(PROC):\n",
    "    N_JOBS = len(PROC)\n",
    "    N_MACHINES = len(PROC[0])\n",
    "    \n",
    "    # Initialize scheduling variables\n",
    "    Idle = [[0 for _ in range(N_MACHINES)] for _ in range(N_JOBS)]\n",
    "    Start = [[0 for _ in range(N_MACHINES)] for _ in range(N_JOBS)]\n",
    "    Stop = [[0 for _ in range(N_MACHINES)] for _ in range(N_JOBS)]\n",
    "    \n",
    "    # Initialize machine availability times\n",
    "    machine_times = [0] * N_MACHINES\n",
    "    \n",
    "    # Schedule each job\n",
    "    for j in range(N_JOBS):\n",
    "        for m in range(N_MACHINES):\n",
    "            if m == 0:\n",
    "                Start[j][m] = machine_times[m]\n",
    "            else:\n",
    "                Start[j][m] = max(machine_times[m], Stop[j][m-1])\n",
    "            \n",
    "            Idle[j][m] = Start[j][m] - (machine_times[m] if m == 0 else Stop[j][m-1])\n",
    "            Stop[j][m] = Start[j][m] + PROC[j][m]\n",
    "            machine_times[m] = Stop[j][m]\n",
    "    \n",
    "    return Idle, Start, Stop, PROC"
   ]
  },
  {
   "cell_type": "code",
   "execution_count": 6,
   "id": "8f4f254a",
   "metadata": {
    "scrolled": false
   },
   "outputs": [
    {
     "name": "stdout",
     "output_type": "stream",
     "text": [
      "Greedy Algorithm Result:\n",
      "Job Sequence and Detailed Schedule:\n",
      "|---------|------------|------------|------------|------------|------------|------------|------------|------------|\n",
      "|         |            | Machine: 0 |            | Machine: 1 |            | Machine: 2 |            | Machine: 3 |\n",
      "|---------|------------|------------|------------|------------|------------|------------|------------|------------|\n",
      "|         |            | Idle:    0 |            | Idle:    0 |            | Idle:    0 |            | Idle:    0 |\n",
      "|---------|------------|------------|------------|------------|------------|------------|------------|------------|\n",
      "|         |            | Start:   0 |            | Start:   2 |            | Start:   7 |            | Start:   9 |\n",
      "| Job:  0 | Wait:    0 | Proc:    2 | Wait:    0 | Proc:    5 | Wait:    0 | Proc:    2 | Wait:    0 | Proc:    1 |\n",
      "|         |            | Stop:    2 |            | Stop:    7 |            | Stop:    9 |            | Stop:   10 |\n",
      "|---------|------------|------------|------------|------------|------------|------------|------------|------------|\n",
      "|         |            | Idle:    0 |            | Idle:    0 |            | Idle:    0 |            | Idle:    0 |\n",
      "|---------|------------|------------|------------|------------|------------|------------|------------|------------|\n",
      "|         |            | Start:   2 |            | Start:  10 |            | Start:  18 |            | Start:  24 |\n",
      "| Job:  1 | Wait:    0 | Proc:    8 | Wait:    0 | Proc:    8 | Wait:    0 | Proc:    6 | Wait:    0 | Proc:    9 |\n",
      "|         |            | Stop:   10 |            | Stop:   18 |            | Stop:   24 |            | Stop:   33 |\n",
      "|---------|------------|------------|------------|------------|------------|------------|------------|------------|\n",
      "|         |            | Idle:    0 |            | Idle:    3 |            | Idle:    0 |            | Idle:    6 |\n",
      "|---------|------------|------------|------------|------------|------------|------------|------------|------------|\n",
      "|         |            | Start:  10 |            | Start:  18 |            | Start:  24 |            | Start:  33 |\n",
      "| Job:  2 | Wait:    0 | Proc:    5 | Wait:    3 | Proc:    6 | Wait:    0 | Proc:    3 | Wait:    6 | Proc:    8 |\n",
      "|         |            | Stop:   15 |            | Stop:   24 |            | Stop:   27 |            | Stop:   41 |\n",
      "|---------|------------|------------|------------|------------|------------|------------|------------|------------|\n",
      "|         |            | Idle:    0 |            | Idle:    6 |            | Idle:    2 |            | Idle:    9 |\n",
      "|---------|------------|------------|------------|------------|------------|------------|------------|------------|\n",
      "|         |            | Start:  15 |            | Start:  24 |            | Start:  27 |            | Start:  41 |\n",
      "| Job:  3 | Wait:    0 | Proc:    3 | Wait:    6 | Proc:    1 | Wait:    2 | Proc:    5 | Wait:    9 | Proc:    4 |\n",
      "|         |            | Stop:   18 |            | Stop:   25 |            | Stop:   32 |            | Stop:   45 |\n",
      "|---------|------------|------------|------------|------------|------------|------------|------------|------------|\n",
      "|         |            | Idle:    0 |            | Idle:    0 |            | Idle:    0 |            | Idle:    9 |\n",
      "|---------|------------|------------|------------|------------|------------|------------|------------|------------|\n",
      "|         |            | Start:  18 |            | Start:  25 |            | Start:  33 |            | Start:  45 |\n",
      "| Job:  4 | Wait:    0 | Proc:    7 | Wait:    0 | Proc:    8 | Wait:    0 | Proc:    3 | Wait:    9 | Proc:    5 |\n",
      "|         |            | Stop:   25 |            | Stop:   33 |            | Stop:   36 |            | Stop:   50 |\n",
      "|---------|------------|------------|------------|------------|------------|------------|------------|------------|\n",
      "|         |            | Idle:    0 |            | Idle:    1 |            | Idle:    0 |            | Idle:   10 |\n",
      "|---------|------------|------------|------------|------------|------------|------------|------------|------------|\n",
      "|         |            | Start:  25 |            | Start:  33 |            | Start:  39 |            | Start:  50 |\n",
      "| Job:  5 | Wait:    0 | Proc:    7 | Wait:    1 | Proc:    6 | Wait:    0 | Proc:    1 | Wait:   10 | Proc:    9 |\n",
      "|         |            | Stop:   32 |            | Stop:   39 |            | Stop:   40 |            | Stop:   59 |\n",
      "|---------|------------|------------|------------|------------|------------|------------|------------|------------|\n",
      "|         |            | Idle:    0 |            | Idle:    0 |            | Idle:    0 |            | Idle:    7 |\n",
      "|---------|------------|------------|------------|------------|------------|------------|------------|------------|\n",
      "|         |            | Start:  32 |            | Start:  41 |            | Start:  49 |            | Start:  59 |\n",
      "| Job:  6 | Wait:    0 | Proc:    9 | Wait:    0 | Proc:    8 | Wait:    0 | Proc:    3 | Wait:    7 | Proc:    5 |\n",
      "|         |            | Stop:   41 |            | Stop:   49 |            | Stop:   52 |            | Stop:   64 |\n",
      "|---------|------------|------------|------------|------------|------------|------------|------------|------------|\n",
      "\n"
     ]
    }
   ],
   "source": [
    "def schedule(N_JOBS, N_MACHINES, Idle, Start, Stop, PROC):\n",
    "    row = \"\"\n",
    "    row += '|---------|'\n",
    "    for m in range(N_MACHINES):\n",
    "        row += f\"------------|\" \\\n",
    "                f\"------------|\"\n",
    "    row += '\\n'\n",
    "    row += '|         |'\n",
    "    for m in range(N_MACHINES):\n",
    "        row += f\"            |\" \\\n",
    "                f\" Machine: {m:1d} |\"\n",
    "    row += '\\n'\n",
    "    for j in range(N_JOBS):\n",
    "        row += '|---------|'\n",
    "        for m in range(N_MACHINES):\n",
    "            row += f\"------------|\" \\\n",
    "                   f\"------------|\"\n",
    "        row += '\\n'\n",
    "        row += '|         |'\n",
    "        for m in range(N_MACHINES):\n",
    "            row += f\"       {' ':4s} | \" \\\n",
    "                   f\"Idle: {val(Idle[j][m]):4d} |\"\n",
    "        row += '\\n'\n",
    "        row += '|---------|'\n",
    "        for m in range(N_MACHINES):\n",
    "            row += f\"------------|\" \\\n",
    "                   f\"------------|\"\n",
    "        row += '\\n'\n",
    "        row += '|         |'\n",
    "        for m in range(N_MACHINES):\n",
    "            row += f\"       {' ':4s} | \" \\\n",
    "                   f\"Start:{val(Start[j][m]):4d} |\"  \n",
    "        row += '\\n' \n",
    "        row += f'| Job: {j:2d} |'\n",
    "        for m in range(N_MACHINES):\n",
    "            row += f\" Wait: {val(Idle[j][m]):4d} | \" \\\n",
    "                   f\"Proc: {PROC[j][m]:4d} |\"\n",
    "        row += '\\n'\n",
    "        row += '|         |'\n",
    "        for m in range(N_MACHINES):\n",
    "            row += f\"       {' ':4s} | \" \\\n",
    "                   f\"Stop: {val(Stop[j][m]):4d} |\"  \n",
    "        row += '\\n' \n",
    "    row += '|---------|'\n",
    "    for m in range(N_MACHINES):\n",
    "        row += f\"------------|\" \\\n",
    "                f\"------------|\"\n",
    "    row += '\\n'\n",
    "    return row\n",
    "\n",
    "Idle, Start, Stop, PROC = greedy_algorithm(PROC)\n",
    "print(\"Greedy Algorithm Result:\")\n",
    "print(\"Job Sequence and Detailed Schedule:\")\n",
    "print(schedule(7, 4, Idle, Start, Stop, PROC))"
   ]
  },
  {
   "cell_type": "code",
   "execution_count": 7,
   "id": "d9668047",
   "metadata": {},
   "outputs": [
    {
     "name": "stdout",
     "output_type": "stream",
     "text": [
      "Overall Processing Time: 64\n"
     ]
    }
   ],
   "source": [
    "stop_times = [\n",
    "    [2, 7, 9, 10],\n",
    "    [10, 18, 24, 33],\n",
    "    [15, 24, 27, 41],\n",
    "    [18, 25, 32, 45],\n",
    "    [25, 33, 36, 50],\n",
    "    [32, 39, 40, 59],\n",
    "    [41, 49, 52, 64]\n",
    "]\n",
    "\n",
    "def calculate_overall_processing_time(stop_times):\n",
    "    overall_processing_time = max(max(times) for times in stop_times)\n",
    "    return overall_processing_time\n",
    "\n",
    "overall_processing_time = calculate_overall_processing_time(stop_times)\n",
    "\n",
    "print(\"Overall Processing Time:\", overall_processing_time)\n"
   ]
  },
  {
   "cell_type": "markdown",
   "id": "eb8bf95b",
   "metadata": {},
   "source": [
    "## Stochastic Opimisation algorithm (Simulated Annealing algorithm)"
   ]
  },
  {
   "cell_type": "code",
   "execution_count": 8,
   "id": "5f0438cf",
   "metadata": {},
   "outputs": [
    {
     "name": "stdout",
     "output_type": "stream",
     "text": [
      "Best solution: [5, 4, 1, 2, 3, 6, 0]\n",
      "Best cost (makespan): 63\n"
     ]
    }
   ],
   "source": [
    "import random\n",
    "import math\n",
    "\n",
    "def calculate_makespan(job_order, PROC, N_MACHINES):\n",
    "    # Initialize completion times for machines\n",
    "    machine_times = [0] * N_MACHINES\n",
    "    \n",
    "    for job in job_order:\n",
    "        # Start the first job at the completion time of the previous job on the first machine\n",
    "        current_start_time = machine_times[0]\n",
    "        for machine in range(N_MACHINES):\n",
    "            if machine == 0:\n",
    "                # Job starts after the previous job finished on this machine\n",
    "                machine_times[machine] += PROC[job][machine]\n",
    "            else:\n",
    "                # Job starts after both the previous job on this machine and this job on the previous machine\n",
    "                machine_times[machine] = max(machine_times[machine], machine_times[machine - 1]) + PROC[job][machine]\n",
    "    return machine_times[-1]\n",
    "\n",
    "def initial_solution(N_JOBS):\n",
    "    return list(range(N_JOBS))\n",
    "\n",
    "def get_neighbor(solution):\n",
    "    # Swap two random elements\n",
    "    a, b = random.sample(range(len(solution)), 2)\n",
    "    solution[a], solution[b] = solution[b], solution[a]\n",
    "    return solution\n",
    "\n",
    "def simulated_annealing(PROC, N_JOBS, N_MACHINES, temp=1000, cooling_rate=0.99, stopping_temp=1):\n",
    "    current_solution = initial_solution(N_JOBS)\n",
    "    current_cost = calculate_makespan(current_solution, PROC, N_MACHINES)\n",
    "    while temp > stopping_temp:\n",
    "        new_solution = get_neighbor(current_solution[:])\n",
    "        new_cost = calculate_makespan(new_solution, PROC, N_MACHINES)\n",
    "        if new_cost < current_cost or random.uniform(0, 1) < math.exp((current_cost - new_cost) / temp):\n",
    "            current_solution, current_cost = new_solution, new_cost\n",
    "        temp *= cooling_rate\n",
    "    return current_solution, current_cost\n",
    "\n",
    "# Set a seed for reproducibility\n",
    "random.seed(4453)\n",
    "best_solution, best_cost = simulated_annealing(PROC, N_JOBS, N_MACHINES)\n",
    "print(\"Best solution:\", best_solution)\n",
    "print(\"Best cost (makespan):\", best_cost)\n"
   ]
  },
  {
   "cell_type": "code",
   "execution_count": 9,
   "id": "11ff5bd2",
   "metadata": {},
   "outputs": [
    {
     "name": "stdout",
     "output_type": "stream",
     "text": [
      "Simulated Annealing Result:\n",
      "Job Sequence and Detailed Schedule:\n",
      "|---------|------------|------------|------------|------------|------------|------------|------------|------------|\n",
      "|         |            | Machine: 0 |            | Machine: 1 |            | Machine: 2 |            | Machine: 3 |\n",
      "|---------|------------|------------|------------|------------|------------|------------|------------|------------|\n",
      "|         |            | Idle:    0 |            | Idle:    0 |            | Idle:    2 |            | Idle:    0 |\n",
      "|---------|------------|------------|------------|------------|------------|------------|------------|------------|\n",
      "|         |            | Start:  15 |            | Start:  24 |            | Start:  29 |            | Start:  36 |\n",
      "| Job:  0 | Wait:    0 | Proc:    2 | Wait:    0 | Proc:    5 | Wait:    2 | Proc:    2 | Wait:    0 | Proc:    1 |\n",
      "|         |            | Stop:   17 |            | Stop:   29 |            | Stop:   31 |            | Stop:   37 |\n",
      "|---------|------------|------------|------------|------------|------------|------------|------------|------------|\n",
      "|         |            | Idle:    0 |            | Idle:    8 |            | Idle:   16 |            | Idle:   22 |\n",
      "|---------|------------|------------|------------|------------|------------|------------|------------|------------|\n",
      "|         |            | Start:   0 |            | Start:   8 |            | Start:  16 |            | Start:  22 |\n",
      "| Job:  1 | Wait:    0 | Proc:    8 | Wait:    8 | Proc:    8 | Wait:   16 | Proc:    6 | Wait:   22 | Proc:    9 |\n",
      "|         |            | Stop:    8 |            | Stop:   16 |            | Stop:   22 |            | Stop:   31 |\n",
      "|---------|------------|------------|------------|------------|------------|------------|------------|------------|\n",
      "|         |            | Idle:    0 |            | Idle:    0 |            | Idle:    3 |            | Idle:    0 |\n",
      "|---------|------------|------------|------------|------------|------------|------------|------------|------------|\n",
      "|         |            | Start:  36 |            | Start:  44 |            | Start:  50 |            | Start:  55 |\n",
      "| Job:  2 | Wait:    0 | Proc:    5 | Wait:    0 | Proc:    6 | Wait:    3 | Proc:    3 | Wait:    0 | Proc:    8 |\n",
      "|         |            | Stop:   41 |            | Stop:   50 |            | Stop:   53 |            | Stop:   63 |\n",
      "|---------|------------|------------|------------|------------|------------|------------|------------|------------|\n",
      "|         |            | Idle:    0 |            | Idle:    0 |            | Idle:    0 |            | Idle:    0 |\n",
      "|---------|------------|------------|------------|------------|------------|------------|------------|------------|\n",
      "|         |            | Start:  17 |            | Start:  29 |            | Start:  31 |            | Start:  37 |\n",
      "| Job:  3 | Wait:    0 | Proc:    3 | Wait:    0 | Proc:    1 | Wait:    0 | Proc:    5 | Wait:    0 | Proc:    4 |\n",
      "|         |            | Stop:   20 |            | Stop:   30 |            | Stop:   36 |            | Stop:   41 |\n",
      "|---------|------------|------------|------------|------------|------------|------------|------------|------------|\n",
      "|         |            | Idle:    0 |            | Idle:    0 |            | Idle:    2 |            | Idle:    0 |\n",
      "|---------|------------|------------|------------|------------|------------|------------|------------|------------|\n",
      "|         |            | Start:   8 |            | Start:  16 |            | Start:  24 |            | Start:  31 |\n",
      "| Job:  4 | Wait:    0 | Proc:    7 | Wait:    0 | Proc:    8 | Wait:    2 | Proc:    3 | Wait:    0 | Proc:    5 |\n",
      "|         |            | Stop:   15 |            | Stop:   24 |            | Stop:   27 |            | Stop:   36 |\n",
      "|---------|------------|------------|------------|------------|------------|------------|------------|------------|\n",
      "|         |            | Idle:    0 |            | Idle:    0 |            | Idle:    0 |            | Idle:    0 |\n",
      "|---------|------------|------------|------------|------------|------------|------------|------------|------------|\n",
      "|         |            | Start:  20 |            | Start:  30 |            | Start:  36 |            | Start:  41 |\n",
      "| Job:  5 | Wait:    0 | Proc:    7 | Wait:    0 | Proc:    6 | Wait:    0 | Proc:    1 | Wait:    0 | Proc:    9 |\n",
      "|         |            | Stop:   27 |            | Stop:   36 |            | Stop:   37 |            | Stop:   50 |\n",
      "|---------|------------|------------|------------|------------|------------|------------|------------|------------|\n",
      "|         |            | Idle:    0 |            | Idle:    0 |            | Idle:    7 |            | Idle:    0 |\n",
      "|---------|------------|------------|------------|------------|------------|------------|------------|------------|\n",
      "|         |            | Start:  27 |            | Start:  36 |            | Start:  44 |            | Start:  50 |\n",
      "| Job:  6 | Wait:    0 | Proc:    9 | Wait:    0 | Proc:    8 | Wait:    7 | Proc:    3 | Wait:    0 | Proc:    5 |\n",
      "|         |            | Stop:   36 |            | Stop:   44 |            | Stop:   47 |            | Stop:   55 |\n",
      "|---------|------------|------------|------------|------------|------------|------------|------------|------------|\n",
      "\n"
     ]
    }
   ],
   "source": [
    "def calculate_schedule(job_order, PROC, N_JOBS, N_MACHINES):\n",
    "    # Arrays to store Idle times, Start times, and Stop times for each job on each machine\n",
    "    Idle = [[0] * N_MACHINES for _ in range(N_JOBS)]\n",
    "    Start = [[0] * N_MACHINES for _ in range(N_JOBS)]\n",
    "    Stop = [[0] * N_MACHINES for _ in range(N_JOBS)]\n",
    "\n",
    "    #Track the end times of the last job on each machine\n",
    "    machine_end_times = [0] * N_MACHINES\n",
    "\n",
    "    #Process each job as per the job_order\n",
    "    for job in job_order:\n",
    "        for m in range(N_MACHINES):\n",
    "            if m == 0:\n",
    "                # First machine: Job starts as soon as the previous job finished\n",
    "                Start[job][m] = machine_end_times[m]\n",
    "            else:\n",
    "                # Subsequent machines: Job starts after both the previous machine has started this job and the same machine has finished the previous job\n",
    "                Start[job][m] = max(Stop[job][m-1], machine_end_times[m])\n",
    "\n",
    "            # Processing time added to the start time to determine when it stops\n",
    "            Stop[job][m] = Start[job][m] + PROC[job][m]\n",
    "\n",
    "            # Calculate Idle time\n",
    "            if m == 0:\n",
    "                Idle[job][m] = 0  # First machine has no idle time for the first job\n",
    "            else:\n",
    "                Idle[job][m] = Start[job][m] - machine_end_times[m]\n",
    "\n",
    "            # Update the end time for this machine\n",
    "            machine_end_times[m] = Stop[job][m]\n",
    "\n",
    "    return Idle, Start, Stop\n",
    "\n",
    "# Use Simulated Annealing to get the best job order\n",
    "best_solution, best_cost = simulated_annealing(PROC, N_JOBS, N_MACHINES)\n",
    "\n",
    "# Calculate the schedule arrays\n",
    "Idle, Start, Stop = calculate_schedule(best_solution, PROC, N_JOBS, N_MACHINES)\n",
    "\n",
    "# Use the schedule function to display the detailed schedule\n",
    "print(\"Simulated Annealing Result:\")\n",
    "print(\"Job Sequence and Detailed Schedule:\")\n",
    "print(schedule(N_JOBS, N_MACHINES, Idle, Start, Stop, PROC))\n"
   ]
  },
  {
   "cell_type": "code",
   "execution_count": 10,
   "id": "2e0f9322",
   "metadata": {
    "scrolled": true
   },
   "outputs": [
    {
     "name": "stdout",
     "output_type": "stream",
     "text": [
      "Overall Processing Time: 63\n"
     ]
    }
   ],
   "source": [
    "def calculate_overall_processing_time(Stop):\n",
    "    max_stop_time = 0\n",
    "    for job_stops in Stop:\n",
    "        job_max = max(job_stops)\n",
    "        if job_max > max_stop_time:\n",
    "            max_stop_time = job_max\n",
    "    return max_stop_time\n",
    "\n",
    "# Example Stop matrix from your provided schedule:\n",
    "Stop = [\n",
    "    [17, 29, 31, 37],\n",
    "    [8, 16, 22, 31],\n",
    "    [41, 50, 53, 63],\n",
    "    [20, 30, 36, 41],\n",
    "    [15, 24, 27, 36],\n",
    "    [27, 36, 37, 50],\n",
    "    [36, 44, 47, 55]\n",
    "]\n",
    "\n",
    "# Calculate the overall processing time\n",
    "overall_processing_time = calculate_overall_processing_time(Stop)\n",
    "print(\"Overall Processing Time:\", overall_processing_time)\n"
   ]
  },
  {
   "cell_type": "code",
   "execution_count": null,
   "id": "a2f0aab7",
   "metadata": {},
   "outputs": [],
   "source": []
  }
 ],
 "metadata": {
  "kernelspec": {
   "display_name": "Python 3 (ipykernel)",
   "language": "python",
   "name": "python3"
  },
  "language_info": {
   "codemirror_mode": {
    "name": "ipython",
    "version": 3
   },
   "file_extension": ".py",
   "mimetype": "text/x-python",
   "name": "python",
   "nbconvert_exporter": "python",
   "pygments_lexer": "ipython3",
   "version": "3.11.5"
  }
 },
 "nbformat": 4,
 "nbformat_minor": 5
}
